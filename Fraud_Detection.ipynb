{
  "cells": [
    {
      "cell_type": "markdown",
      "id": "b5608deb",
      "metadata": {
        "id": "b5608deb"
      },
      "source": [
        "# Fraud Detection"
      ]
    },
    {
      "cell_type": "markdown",
      "source": [
        "Find this notebook on Github: \n"
      ],
      "metadata": {
        "id": "Gwg_k1cRq-ew"
      },
      "id": "Gwg_k1cRq-ew"
    },
    {
      "cell_type": "markdown",
      "source": [
        "### Fraud detection is a set of activities undertaken to prevent money or property from being obtained through false pretenses. Fraud detection is applied to many industries such as banking or insurance. Such acts of fraud detection has financially affected a lot of individuals as well as organizations."
      ],
      "metadata": {
        "id": "OogCHuICot4E"
      },
      "id": "OogCHuICot4E"
    },
    {
      "cell_type": "markdown",
      "source": [
        "#### Unlike the old times, we can use the help of the current bleeding edge technologies to gain advantages over the scamsters. Using Machine Learning for Fraud Detection is one such example. Machine learning models are able to learn from patterns of normal behavior. They are very fast to adapt to changes in that normal behaviour and can quickly identify patterns of fraud transactions. This means that the model can identify suspicious customers even when there hasn't been a chargeback yet."
      ],
      "metadata": {
        "id": "fm63f7RVpMsq"
      },
      "id": "fm63f7RVpMsq"
    },
    {
      "cell_type": "markdown",
      "source": [
        "The libraries used for in this notebook are given below:\n",
        "1. Sklearn\n",
        "- Scikit-learn is a free software machine learning library for the Python \n",
        "programming language.\n",
        "- This library contains various machine learning models in the form of objects, some of which are used in this notebook aswell\n",
        "- Apart from this, it is also useful because of it's various other features, like test_train_split, classification_report and various other functions.\n",
        "\n",
        "\n",
        "2. Numpy and Pandas\n",
        "- NumPy is a library for Python that adds support for large, multi-dimensional arrays and matrices, along with a large collection of high-level mathematical functions to operate on these arrays. \n",
        "- Pandas is a high-level data manipulation tool that is built on the NumPy package.\n",
        "\n",
        "\n",
        "3. Matplotlib and Seaborn\n",
        "- Matplotlib is a plotting library for the Python programming language and its numerical mathematics extension NumPy. \n",
        "- Seaborn is a library for making statistical graphics in Python. It builds on top of matplotlib and integrates closely with pandas data structures.\n",
        "\n",
        "\n",
        "4. Google Colab\n",
        "- This is the library made for Google Colab\n",
        "- Using this library, one can import datasets in the developing notebook by extracting the same from the Google Drive associated with the accound"
      ],
      "metadata": {
        "id": "xXlH_3A7Yvba"
      },
      "id": "xXlH_3A7Yvba"
    },
    {
      "cell_type": "markdown",
      "source": [
        "##Importing Important Libraries"
      ],
      "metadata": {
        "id": "ODvBAT8IHY6b"
      },
      "id": "ODvBAT8IHY6b"
    },
    {
      "cell_type": "code",
      "execution_count": null,
      "id": "e54adc52",
      "metadata": {
        "id": "e54adc52"
      },
      "outputs": [],
      "source": [
        "import numpy as np\n",
        "import pandas as pd\n",
        "import seaborn as sns\n",
        "import matplotlib.pyplot as plt"
      ]
    },
    {
      "cell_type": "markdown",
      "source": [
        "##Importing the dataset from Google Drive "
      ],
      "metadata": {
        "id": "VvbGpKZMHcmq"
      },
      "id": "VvbGpKZMHcmq"
    },
    {
      "cell_type": "code",
      "execution_count": 39,
      "id": "90e69157",
      "metadata": {
        "colab": {
          "base_uri": "https://localhost:8080/"
        },
        "id": "90e69157",
        "outputId": "6ce5a72a-bc5e-42bc-bf91-7d221d0974a7"
      },
      "outputs": [
        {
          "output_type": "stream",
          "name": "stdout",
          "text": [
            "Drive already mounted at /content/gdrive; to attempt to forcibly remount, call drive.mount(\"/content/gdrive\", force_remount=True).\n"
          ]
        }
      ],
      "source": [
        "from google.colab import drive \n",
        "drive.mount('/content/gdrive')\n",
        "fraud_data = pd.read_csv('gdrive/My Drive/Fraud.csv')"
      ]
    },
    {
      "cell_type": "markdown",
      "source": [
        "If you are running this on Jupyter Notebook, then un-comment and run the cell below before running the above cell  "
      ],
      "metadata": {
        "id": "54FyYr2pHscZ"
      },
      "id": "54FyYr2pHscZ"
    },
    {
      "cell_type": "code",
      "source": [
        "# fraud_data = pd.read_csv(\"Fraud.csv\")"
      ],
      "metadata": {
        "id": "p9xYm_1fH8H4"
      },
      "id": "p9xYm_1fH8H4",
      "execution_count": 40,
      "outputs": []
    },
    {
      "cell_type": "markdown",
      "source": [
        "## Data Exploration"
      ],
      "metadata": {
        "id": "S7CT-VyLIIkE"
      },
      "id": "S7CT-VyLIIkE"
    },
    {
      "cell_type": "markdown",
      "source": [
        "In the cells below, we are going to analyse the data, make some nessesary modifications as well as perform some data cleaning if nessesary"
      ],
      "metadata": {
        "id": "WsP5XIX7IOSM"
      },
      "id": "WsP5XIX7IOSM"
    },
    {
      "cell_type": "code",
      "execution_count": 41,
      "id": "33464b0f",
      "metadata": {
        "id": "33464b0f",
        "colab": {
          "base_uri": "https://localhost:8080/",
          "height": 424
        },
        "outputId": "f31434e6-15f1-464c-cf4b-a97346f2f495"
      },
      "outputs": [
        {
          "output_type": "execute_result",
          "data": {
            "text/plain": [
              "         step      type      amount     nameOrig  oldbalanceOrg  \\\n",
              "0           1   PAYMENT     9839.64  C1231006815      170136.00   \n",
              "1           1   PAYMENT     1864.28  C1666544295       21249.00   \n",
              "2           1  TRANSFER      181.00  C1305486145         181.00   \n",
              "3           1  CASH_OUT      181.00   C840083671         181.00   \n",
              "4           1   PAYMENT    11668.14  C2048537720       41554.00   \n",
              "...       ...       ...         ...          ...            ...   \n",
              "6362615   743  CASH_OUT   339682.13   C786484425      339682.13   \n",
              "6362616   743  TRANSFER  6311409.28  C1529008245     6311409.28   \n",
              "6362617   743  CASH_OUT  6311409.28  C1162922333     6311409.28   \n",
              "6362618   743  TRANSFER   850002.52  C1685995037      850002.52   \n",
              "6362619   743  CASH_OUT   850002.52  C1280323807      850002.52   \n",
              "\n",
              "         newbalanceOrig     nameDest  oldbalanceDest  newbalanceDest  isFraud  \\\n",
              "0             160296.36  M1979787155            0.00            0.00        0   \n",
              "1              19384.72  M2044282225            0.00            0.00        0   \n",
              "2                  0.00   C553264065            0.00            0.00        1   \n",
              "3                  0.00    C38997010        21182.00            0.00        1   \n",
              "4              29885.86  M1230701703            0.00            0.00        0   \n",
              "...                 ...          ...             ...             ...      ...   \n",
              "6362615            0.00   C776919290            0.00       339682.13        1   \n",
              "6362616            0.00  C1881841831            0.00            0.00        1   \n",
              "6362617            0.00  C1365125890        68488.84      6379898.11        1   \n",
              "6362618            0.00  C2080388513            0.00            0.00        1   \n",
              "6362619            0.00   C873221189      6510099.11      7360101.63        1   \n",
              "\n",
              "         isFlaggedFraud  \n",
              "0                     0  \n",
              "1                     0  \n",
              "2                     0  \n",
              "3                     0  \n",
              "4                     0  \n",
              "...                 ...  \n",
              "6362615               0  \n",
              "6362616               0  \n",
              "6362617               0  \n",
              "6362618               0  \n",
              "6362619               0  \n",
              "\n",
              "[6362620 rows x 11 columns]"
            ],
            "text/html": [
              "\n",
              "  <div id=\"df-07d2ee8c-a9eb-4c93-b3a7-386401e26f22\">\n",
              "    <div class=\"colab-df-container\">\n",
              "      <div>\n",
              "<style scoped>\n",
              "    .dataframe tbody tr th:only-of-type {\n",
              "        vertical-align: middle;\n",
              "    }\n",
              "\n",
              "    .dataframe tbody tr th {\n",
              "        vertical-align: top;\n",
              "    }\n",
              "\n",
              "    .dataframe thead th {\n",
              "        text-align: right;\n",
              "    }\n",
              "</style>\n",
              "<table border=\"1\" class=\"dataframe\">\n",
              "  <thead>\n",
              "    <tr style=\"text-align: right;\">\n",
              "      <th></th>\n",
              "      <th>step</th>\n",
              "      <th>type</th>\n",
              "      <th>amount</th>\n",
              "      <th>nameOrig</th>\n",
              "      <th>oldbalanceOrg</th>\n",
              "      <th>newbalanceOrig</th>\n",
              "      <th>nameDest</th>\n",
              "      <th>oldbalanceDest</th>\n",
              "      <th>newbalanceDest</th>\n",
              "      <th>isFraud</th>\n",
              "      <th>isFlaggedFraud</th>\n",
              "    </tr>\n",
              "  </thead>\n",
              "  <tbody>\n",
              "    <tr>\n",
              "      <th>0</th>\n",
              "      <td>1</td>\n",
              "      <td>PAYMENT</td>\n",
              "      <td>9839.64</td>\n",
              "      <td>C1231006815</td>\n",
              "      <td>170136.00</td>\n",
              "      <td>160296.36</td>\n",
              "      <td>M1979787155</td>\n",
              "      <td>0.00</td>\n",
              "      <td>0.00</td>\n",
              "      <td>0</td>\n",
              "      <td>0</td>\n",
              "    </tr>\n",
              "    <tr>\n",
              "      <th>1</th>\n",
              "      <td>1</td>\n",
              "      <td>PAYMENT</td>\n",
              "      <td>1864.28</td>\n",
              "      <td>C1666544295</td>\n",
              "      <td>21249.00</td>\n",
              "      <td>19384.72</td>\n",
              "      <td>M2044282225</td>\n",
              "      <td>0.00</td>\n",
              "      <td>0.00</td>\n",
              "      <td>0</td>\n",
              "      <td>0</td>\n",
              "    </tr>\n",
              "    <tr>\n",
              "      <th>2</th>\n",
              "      <td>1</td>\n",
              "      <td>TRANSFER</td>\n",
              "      <td>181.00</td>\n",
              "      <td>C1305486145</td>\n",
              "      <td>181.00</td>\n",
              "      <td>0.00</td>\n",
              "      <td>C553264065</td>\n",
              "      <td>0.00</td>\n",
              "      <td>0.00</td>\n",
              "      <td>1</td>\n",
              "      <td>0</td>\n",
              "    </tr>\n",
              "    <tr>\n",
              "      <th>3</th>\n",
              "      <td>1</td>\n",
              "      <td>CASH_OUT</td>\n",
              "      <td>181.00</td>\n",
              "      <td>C840083671</td>\n",
              "      <td>181.00</td>\n",
              "      <td>0.00</td>\n",
              "      <td>C38997010</td>\n",
              "      <td>21182.00</td>\n",
              "      <td>0.00</td>\n",
              "      <td>1</td>\n",
              "      <td>0</td>\n",
              "    </tr>\n",
              "    <tr>\n",
              "      <th>4</th>\n",
              "      <td>1</td>\n",
              "      <td>PAYMENT</td>\n",
              "      <td>11668.14</td>\n",
              "      <td>C2048537720</td>\n",
              "      <td>41554.00</td>\n",
              "      <td>29885.86</td>\n",
              "      <td>M1230701703</td>\n",
              "      <td>0.00</td>\n",
              "      <td>0.00</td>\n",
              "      <td>0</td>\n",
              "      <td>0</td>\n",
              "    </tr>\n",
              "    <tr>\n",
              "      <th>...</th>\n",
              "      <td>...</td>\n",
              "      <td>...</td>\n",
              "      <td>...</td>\n",
              "      <td>...</td>\n",
              "      <td>...</td>\n",
              "      <td>...</td>\n",
              "      <td>...</td>\n",
              "      <td>...</td>\n",
              "      <td>...</td>\n",
              "      <td>...</td>\n",
              "      <td>...</td>\n",
              "    </tr>\n",
              "    <tr>\n",
              "      <th>6362615</th>\n",
              "      <td>743</td>\n",
              "      <td>CASH_OUT</td>\n",
              "      <td>339682.13</td>\n",
              "      <td>C786484425</td>\n",
              "      <td>339682.13</td>\n",
              "      <td>0.00</td>\n",
              "      <td>C776919290</td>\n",
              "      <td>0.00</td>\n",
              "      <td>339682.13</td>\n",
              "      <td>1</td>\n",
              "      <td>0</td>\n",
              "    </tr>\n",
              "    <tr>\n",
              "      <th>6362616</th>\n",
              "      <td>743</td>\n",
              "      <td>TRANSFER</td>\n",
              "      <td>6311409.28</td>\n",
              "      <td>C1529008245</td>\n",
              "      <td>6311409.28</td>\n",
              "      <td>0.00</td>\n",
              "      <td>C1881841831</td>\n",
              "      <td>0.00</td>\n",
              "      <td>0.00</td>\n",
              "      <td>1</td>\n",
              "      <td>0</td>\n",
              "    </tr>\n",
              "    <tr>\n",
              "      <th>6362617</th>\n",
              "      <td>743</td>\n",
              "      <td>CASH_OUT</td>\n",
              "      <td>6311409.28</td>\n",
              "      <td>C1162922333</td>\n",
              "      <td>6311409.28</td>\n",
              "      <td>0.00</td>\n",
              "      <td>C1365125890</td>\n",
              "      <td>68488.84</td>\n",
              "      <td>6379898.11</td>\n",
              "      <td>1</td>\n",
              "      <td>0</td>\n",
              "    </tr>\n",
              "    <tr>\n",
              "      <th>6362618</th>\n",
              "      <td>743</td>\n",
              "      <td>TRANSFER</td>\n",
              "      <td>850002.52</td>\n",
              "      <td>C1685995037</td>\n",
              "      <td>850002.52</td>\n",
              "      <td>0.00</td>\n",
              "      <td>C2080388513</td>\n",
              "      <td>0.00</td>\n",
              "      <td>0.00</td>\n",
              "      <td>1</td>\n",
              "      <td>0</td>\n",
              "    </tr>\n",
              "    <tr>\n",
              "      <th>6362619</th>\n",
              "      <td>743</td>\n",
              "      <td>CASH_OUT</td>\n",
              "      <td>850002.52</td>\n",
              "      <td>C1280323807</td>\n",
              "      <td>850002.52</td>\n",
              "      <td>0.00</td>\n",
              "      <td>C873221189</td>\n",
              "      <td>6510099.11</td>\n",
              "      <td>7360101.63</td>\n",
              "      <td>1</td>\n",
              "      <td>0</td>\n",
              "    </tr>\n",
              "  </tbody>\n",
              "</table>\n",
              "<p>6362620 rows × 11 columns</p>\n",
              "</div>\n",
              "      <button class=\"colab-df-convert\" onclick=\"convertToInteractive('df-07d2ee8c-a9eb-4c93-b3a7-386401e26f22')\"\n",
              "              title=\"Convert this dataframe to an interactive table.\"\n",
              "              style=\"display:none;\">\n",
              "        \n",
              "  <svg xmlns=\"http://www.w3.org/2000/svg\" height=\"24px\"viewBox=\"0 0 24 24\"\n",
              "       width=\"24px\">\n",
              "    <path d=\"M0 0h24v24H0V0z\" fill=\"none\"/>\n",
              "    <path d=\"M18.56 5.44l.94 2.06.94-2.06 2.06-.94-2.06-.94-.94-2.06-.94 2.06-2.06.94zm-11 1L8.5 8.5l.94-2.06 2.06-.94-2.06-.94L8.5 2.5l-.94 2.06-2.06.94zm10 10l.94 2.06.94-2.06 2.06-.94-2.06-.94-.94-2.06-.94 2.06-2.06.94z\"/><path d=\"M17.41 7.96l-1.37-1.37c-.4-.4-.92-.59-1.43-.59-.52 0-1.04.2-1.43.59L10.3 9.45l-7.72 7.72c-.78.78-.78 2.05 0 2.83L4 21.41c.39.39.9.59 1.41.59.51 0 1.02-.2 1.41-.59l7.78-7.78 2.81-2.81c.8-.78.8-2.07 0-2.86zM5.41 20L4 18.59l7.72-7.72 1.47 1.35L5.41 20z\"/>\n",
              "  </svg>\n",
              "      </button>\n",
              "      \n",
              "  <style>\n",
              "    .colab-df-container {\n",
              "      display:flex;\n",
              "      flex-wrap:wrap;\n",
              "      gap: 12px;\n",
              "    }\n",
              "\n",
              "    .colab-df-convert {\n",
              "      background-color: #E8F0FE;\n",
              "      border: none;\n",
              "      border-radius: 50%;\n",
              "      cursor: pointer;\n",
              "      display: none;\n",
              "      fill: #1967D2;\n",
              "      height: 32px;\n",
              "      padding: 0 0 0 0;\n",
              "      width: 32px;\n",
              "    }\n",
              "\n",
              "    .colab-df-convert:hover {\n",
              "      background-color: #E2EBFA;\n",
              "      box-shadow: 0px 1px 2px rgba(60, 64, 67, 0.3), 0px 1px 3px 1px rgba(60, 64, 67, 0.15);\n",
              "      fill: #174EA6;\n",
              "    }\n",
              "\n",
              "    [theme=dark] .colab-df-convert {\n",
              "      background-color: #3B4455;\n",
              "      fill: #D2E3FC;\n",
              "    }\n",
              "\n",
              "    [theme=dark] .colab-df-convert:hover {\n",
              "      background-color: #434B5C;\n",
              "      box-shadow: 0px 1px 3px 1px rgba(0, 0, 0, 0.15);\n",
              "      filter: drop-shadow(0px 1px 2px rgba(0, 0, 0, 0.3));\n",
              "      fill: #FFFFFF;\n",
              "    }\n",
              "  </style>\n",
              "\n",
              "      <script>\n",
              "        const buttonEl =\n",
              "          document.querySelector('#df-07d2ee8c-a9eb-4c93-b3a7-386401e26f22 button.colab-df-convert');\n",
              "        buttonEl.style.display =\n",
              "          google.colab.kernel.accessAllowed ? 'block' : 'none';\n",
              "\n",
              "        async function convertToInteractive(key) {\n",
              "          const element = document.querySelector('#df-07d2ee8c-a9eb-4c93-b3a7-386401e26f22');\n",
              "          const dataTable =\n",
              "            await google.colab.kernel.invokeFunction('convertToInteractive',\n",
              "                                                     [key], {});\n",
              "          if (!dataTable) return;\n",
              "\n",
              "          const docLinkHtml = 'Like what you see? Visit the ' +\n",
              "            '<a target=\"_blank\" href=https://colab.research.google.com/notebooks/data_table.ipynb>data table notebook</a>'\n",
              "            + ' to learn more about interactive tables.';\n",
              "          element.innerHTML = '';\n",
              "          dataTable['output_type'] = 'display_data';\n",
              "          await google.colab.output.renderOutput(dataTable, element);\n",
              "          const docLink = document.createElement('div');\n",
              "          docLink.innerHTML = docLinkHtml;\n",
              "          element.appendChild(docLink);\n",
              "        }\n",
              "      </script>\n",
              "    </div>\n",
              "  </div>\n",
              "  "
            ]
          },
          "metadata": {},
          "execution_count": 41
        }
      ],
      "source": [
        "# This provides us with the whole information about the given dataset. We can have a glimpse of the data using the below table\n",
        "fraud_data"
      ]
    },
    {
      "cell_type": "markdown",
      "source": [
        "After analysing the whole data, we can come to a comclusiion that the cells named 'nameOrig' and 'nameDest' can be removed from the dataset since they do not affect the fraud probablity"
      ],
      "metadata": {
        "id": "uGo4AXgnIk2e"
      },
      "id": "uGo4AXgnIk2e"
    },
    {
      "cell_type": "code",
      "execution_count": 42,
      "id": "af688ccd",
      "metadata": {
        "id": "af688ccd"
      },
      "outputs": [],
      "source": [
        "# The code below removes the colums named 'nameOrig' and 'nameDest' from the dataset\n",
        "fraud_data = fraud_data.drop(['nameOrig' , 'nameDest'] , axis=1)"
      ]
    },
    {
      "cell_type": "markdown",
      "source": [
        "Now that we have removed the unnesesary colums from the dataset, we should check the size of the data we have to deal with"
      ],
      "metadata": {
        "id": "6PRVepgKJzJf"
      },
      "id": "6PRVepgKJzJf"
    },
    {
      "cell_type": "code",
      "execution_count": 43,
      "id": "d543b791",
      "metadata": {
        "id": "d543b791",
        "colab": {
          "base_uri": "https://localhost:8080/"
        },
        "outputId": "09b13d81-55c6-4d5c-d81e-78c40f980706"
      },
      "outputs": [
        {
          "output_type": "execute_result",
          "data": {
            "text/plain": [
              "(6362620, 9)"
            ]
          },
          "metadata": {},
          "execution_count": 43
        }
      ],
      "source": [
        "# The tuple returned by the function is in the form (Rows , Columns)\n",
        "fraud_data.shape"
      ]
    },
    {
      "cell_type": "markdown",
      "source": [
        "It is clear that the data we have to perform predictions on is has 6362620 rows and 9 colums"
      ],
      "metadata": {
        "id": "cpkIkJW8KC3R"
      },
      "id": "cpkIkJW8KC3R"
    },
    {
      "cell_type": "code",
      "execution_count": 44,
      "id": "89675ff9",
      "metadata": {
        "id": "89675ff9",
        "colab": {
          "base_uri": "https://localhost:8080/",
          "height": 300
        },
        "outputId": "48b8203d-be33-4059-8da7-6b3d14cbb6b4"
      },
      "outputs": [
        {
          "output_type": "execute_result",
          "data": {
            "text/plain": [
              "               step        amount  oldbalanceOrg  newbalanceOrig  \\\n",
              "count  6.362620e+06  6.362620e+06   6.362620e+06    6.362620e+06   \n",
              "mean   2.433972e+02  1.798619e+05   8.338831e+05    8.551137e+05   \n",
              "std    1.423320e+02  6.038582e+05   2.888243e+06    2.924049e+06   \n",
              "min    1.000000e+00  0.000000e+00   0.000000e+00    0.000000e+00   \n",
              "25%    1.560000e+02  1.338957e+04   0.000000e+00    0.000000e+00   \n",
              "50%    2.390000e+02  7.487194e+04   1.420800e+04    0.000000e+00   \n",
              "75%    3.350000e+02  2.087215e+05   1.073152e+05    1.442584e+05   \n",
              "max    7.430000e+02  9.244552e+07   5.958504e+07    4.958504e+07   \n",
              "\n",
              "       oldbalanceDest  newbalanceDest       isFraud  isFlaggedFraud  \n",
              "count    6.362620e+06    6.362620e+06  6.362620e+06    6.362620e+06  \n",
              "mean     1.100702e+06    1.224996e+06  1.290820e-03    2.514687e-06  \n",
              "std      3.399180e+06    3.674129e+06  3.590480e-02    1.585775e-03  \n",
              "min      0.000000e+00    0.000000e+00  0.000000e+00    0.000000e+00  \n",
              "25%      0.000000e+00    0.000000e+00  0.000000e+00    0.000000e+00  \n",
              "50%      1.327057e+05    2.146614e+05  0.000000e+00    0.000000e+00  \n",
              "75%      9.430367e+05    1.111909e+06  0.000000e+00    0.000000e+00  \n",
              "max      3.560159e+08    3.561793e+08  1.000000e+00    1.000000e+00  "
            ],
            "text/html": [
              "\n",
              "  <div id=\"df-2542bed6-87f2-4cf8-8e44-ef8a1a3f2f4b\">\n",
              "    <div class=\"colab-df-container\">\n",
              "      <div>\n",
              "<style scoped>\n",
              "    .dataframe tbody tr th:only-of-type {\n",
              "        vertical-align: middle;\n",
              "    }\n",
              "\n",
              "    .dataframe tbody tr th {\n",
              "        vertical-align: top;\n",
              "    }\n",
              "\n",
              "    .dataframe thead th {\n",
              "        text-align: right;\n",
              "    }\n",
              "</style>\n",
              "<table border=\"1\" class=\"dataframe\">\n",
              "  <thead>\n",
              "    <tr style=\"text-align: right;\">\n",
              "      <th></th>\n",
              "      <th>step</th>\n",
              "      <th>amount</th>\n",
              "      <th>oldbalanceOrg</th>\n",
              "      <th>newbalanceOrig</th>\n",
              "      <th>oldbalanceDest</th>\n",
              "      <th>newbalanceDest</th>\n",
              "      <th>isFraud</th>\n",
              "      <th>isFlaggedFraud</th>\n",
              "    </tr>\n",
              "  </thead>\n",
              "  <tbody>\n",
              "    <tr>\n",
              "      <th>count</th>\n",
              "      <td>6.362620e+06</td>\n",
              "      <td>6.362620e+06</td>\n",
              "      <td>6.362620e+06</td>\n",
              "      <td>6.362620e+06</td>\n",
              "      <td>6.362620e+06</td>\n",
              "      <td>6.362620e+06</td>\n",
              "      <td>6.362620e+06</td>\n",
              "      <td>6.362620e+06</td>\n",
              "    </tr>\n",
              "    <tr>\n",
              "      <th>mean</th>\n",
              "      <td>2.433972e+02</td>\n",
              "      <td>1.798619e+05</td>\n",
              "      <td>8.338831e+05</td>\n",
              "      <td>8.551137e+05</td>\n",
              "      <td>1.100702e+06</td>\n",
              "      <td>1.224996e+06</td>\n",
              "      <td>1.290820e-03</td>\n",
              "      <td>2.514687e-06</td>\n",
              "    </tr>\n",
              "    <tr>\n",
              "      <th>std</th>\n",
              "      <td>1.423320e+02</td>\n",
              "      <td>6.038582e+05</td>\n",
              "      <td>2.888243e+06</td>\n",
              "      <td>2.924049e+06</td>\n",
              "      <td>3.399180e+06</td>\n",
              "      <td>3.674129e+06</td>\n",
              "      <td>3.590480e-02</td>\n",
              "      <td>1.585775e-03</td>\n",
              "    </tr>\n",
              "    <tr>\n",
              "      <th>min</th>\n",
              "      <td>1.000000e+00</td>\n",
              "      <td>0.000000e+00</td>\n",
              "      <td>0.000000e+00</td>\n",
              "      <td>0.000000e+00</td>\n",
              "      <td>0.000000e+00</td>\n",
              "      <td>0.000000e+00</td>\n",
              "      <td>0.000000e+00</td>\n",
              "      <td>0.000000e+00</td>\n",
              "    </tr>\n",
              "    <tr>\n",
              "      <th>25%</th>\n",
              "      <td>1.560000e+02</td>\n",
              "      <td>1.338957e+04</td>\n",
              "      <td>0.000000e+00</td>\n",
              "      <td>0.000000e+00</td>\n",
              "      <td>0.000000e+00</td>\n",
              "      <td>0.000000e+00</td>\n",
              "      <td>0.000000e+00</td>\n",
              "      <td>0.000000e+00</td>\n",
              "    </tr>\n",
              "    <tr>\n",
              "      <th>50%</th>\n",
              "      <td>2.390000e+02</td>\n",
              "      <td>7.487194e+04</td>\n",
              "      <td>1.420800e+04</td>\n",
              "      <td>0.000000e+00</td>\n",
              "      <td>1.327057e+05</td>\n",
              "      <td>2.146614e+05</td>\n",
              "      <td>0.000000e+00</td>\n",
              "      <td>0.000000e+00</td>\n",
              "    </tr>\n",
              "    <tr>\n",
              "      <th>75%</th>\n",
              "      <td>3.350000e+02</td>\n",
              "      <td>2.087215e+05</td>\n",
              "      <td>1.073152e+05</td>\n",
              "      <td>1.442584e+05</td>\n",
              "      <td>9.430367e+05</td>\n",
              "      <td>1.111909e+06</td>\n",
              "      <td>0.000000e+00</td>\n",
              "      <td>0.000000e+00</td>\n",
              "    </tr>\n",
              "    <tr>\n",
              "      <th>max</th>\n",
              "      <td>7.430000e+02</td>\n",
              "      <td>9.244552e+07</td>\n",
              "      <td>5.958504e+07</td>\n",
              "      <td>4.958504e+07</td>\n",
              "      <td>3.560159e+08</td>\n",
              "      <td>3.561793e+08</td>\n",
              "      <td>1.000000e+00</td>\n",
              "      <td>1.000000e+00</td>\n",
              "    </tr>\n",
              "  </tbody>\n",
              "</table>\n",
              "</div>\n",
              "      <button class=\"colab-df-convert\" onclick=\"convertToInteractive('df-2542bed6-87f2-4cf8-8e44-ef8a1a3f2f4b')\"\n",
              "              title=\"Convert this dataframe to an interactive table.\"\n",
              "              style=\"display:none;\">\n",
              "        \n",
              "  <svg xmlns=\"http://www.w3.org/2000/svg\" height=\"24px\"viewBox=\"0 0 24 24\"\n",
              "       width=\"24px\">\n",
              "    <path d=\"M0 0h24v24H0V0z\" fill=\"none\"/>\n",
              "    <path d=\"M18.56 5.44l.94 2.06.94-2.06 2.06-.94-2.06-.94-.94-2.06-.94 2.06-2.06.94zm-11 1L8.5 8.5l.94-2.06 2.06-.94-2.06-.94L8.5 2.5l-.94 2.06-2.06.94zm10 10l.94 2.06.94-2.06 2.06-.94-2.06-.94-.94-2.06-.94 2.06-2.06.94z\"/><path d=\"M17.41 7.96l-1.37-1.37c-.4-.4-.92-.59-1.43-.59-.52 0-1.04.2-1.43.59L10.3 9.45l-7.72 7.72c-.78.78-.78 2.05 0 2.83L4 21.41c.39.39.9.59 1.41.59.51 0 1.02-.2 1.41-.59l7.78-7.78 2.81-2.81c.8-.78.8-2.07 0-2.86zM5.41 20L4 18.59l7.72-7.72 1.47 1.35L5.41 20z\"/>\n",
              "  </svg>\n",
              "      </button>\n",
              "      \n",
              "  <style>\n",
              "    .colab-df-container {\n",
              "      display:flex;\n",
              "      flex-wrap:wrap;\n",
              "      gap: 12px;\n",
              "    }\n",
              "\n",
              "    .colab-df-convert {\n",
              "      background-color: #E8F0FE;\n",
              "      border: none;\n",
              "      border-radius: 50%;\n",
              "      cursor: pointer;\n",
              "      display: none;\n",
              "      fill: #1967D2;\n",
              "      height: 32px;\n",
              "      padding: 0 0 0 0;\n",
              "      width: 32px;\n",
              "    }\n",
              "\n",
              "    .colab-df-convert:hover {\n",
              "      background-color: #E2EBFA;\n",
              "      box-shadow: 0px 1px 2px rgba(60, 64, 67, 0.3), 0px 1px 3px 1px rgba(60, 64, 67, 0.15);\n",
              "      fill: #174EA6;\n",
              "    }\n",
              "\n",
              "    [theme=dark] .colab-df-convert {\n",
              "      background-color: #3B4455;\n",
              "      fill: #D2E3FC;\n",
              "    }\n",
              "\n",
              "    [theme=dark] .colab-df-convert:hover {\n",
              "      background-color: #434B5C;\n",
              "      box-shadow: 0px 1px 3px 1px rgba(0, 0, 0, 0.15);\n",
              "      filter: drop-shadow(0px 1px 2px rgba(0, 0, 0, 0.3));\n",
              "      fill: #FFFFFF;\n",
              "    }\n",
              "  </style>\n",
              "\n",
              "      <script>\n",
              "        const buttonEl =\n",
              "          document.querySelector('#df-2542bed6-87f2-4cf8-8e44-ef8a1a3f2f4b button.colab-df-convert');\n",
              "        buttonEl.style.display =\n",
              "          google.colab.kernel.accessAllowed ? 'block' : 'none';\n",
              "\n",
              "        async function convertToInteractive(key) {\n",
              "          const element = document.querySelector('#df-2542bed6-87f2-4cf8-8e44-ef8a1a3f2f4b');\n",
              "          const dataTable =\n",
              "            await google.colab.kernel.invokeFunction('convertToInteractive',\n",
              "                                                     [key], {});\n",
              "          if (!dataTable) return;\n",
              "\n",
              "          const docLinkHtml = 'Like what you see? Visit the ' +\n",
              "            '<a target=\"_blank\" href=https://colab.research.google.com/notebooks/data_table.ipynb>data table notebook</a>'\n",
              "            + ' to learn more about interactive tables.';\n",
              "          element.innerHTML = '';\n",
              "          dataTable['output_type'] = 'display_data';\n",
              "          await google.colab.output.renderOutput(dataTable, element);\n",
              "          const docLink = document.createElement('div');\n",
              "          docLink.innerHTML = docLinkHtml;\n",
              "          element.appendChild(docLink);\n",
              "        }\n",
              "      </script>\n",
              "    </div>\n",
              "  </div>\n",
              "  "
            ]
          },
          "metadata": {},
          "execution_count": 44
        }
      ],
      "source": [
        "# This function returns some useful statistics about the data, which might be useful\n",
        "fraud_data.describe()"
      ]
    },
    {
      "cell_type": "markdown",
      "source": [
        "Let us get the list of all the columns present in the dataset"
      ],
      "metadata": {
        "id": "2j7ef_3SM7hG"
      },
      "id": "2j7ef_3SM7hG"
    },
    {
      "cell_type": "code",
      "execution_count": 45,
      "id": "111a6111",
      "metadata": {
        "id": "111a6111",
        "colab": {
          "base_uri": "https://localhost:8080/"
        },
        "outputId": "cc4acefc-45d8-4c9e-fe71-06170d38a2dd"
      },
      "outputs": [
        {
          "output_type": "stream",
          "name": "stdout",
          "text": [
            "All the columns in the given dataset is: \n",
            "1.) step\n",
            "2.) type\n",
            "3.) amount\n",
            "4.) oldbalanceOrg\n",
            "5.) newbalanceOrig\n",
            "6.) oldbalanceDest\n",
            "7.) newbalanceDest\n",
            "8.) isFraud\n",
            "9.) isFlaggedFraud\n"
          ]
        }
      ],
      "source": [
        "cols = list(fraud_data.columns)\n",
        "print(\"All the columns in the given dataset is: \")\n",
        "for i in cols:\n",
        "    print(str(cols.index(i) + 1) + \".) \" + i)"
      ]
    },
    {
      "cell_type": "markdown",
      "source": [
        "Before moving further, we should check for the existance of any null value in the daabase. Having null values would affect the accuracy of the database and hence we should perform nessessary actions before commencing the predictions"
      ],
      "metadata": {
        "id": "ruNamdgANDs8"
      },
      "id": "ruNamdgANDs8"
    },
    {
      "cell_type": "code",
      "execution_count": 46,
      "id": "659af4f3",
      "metadata": {
        "scrolled": true,
        "id": "659af4f3",
        "colab": {
          "base_uri": "https://localhost:8080/"
        },
        "outputId": "edffb55c-8b06-4490-a9fc-8cfd7011a4b4"
      },
      "outputs": [
        {
          "output_type": "execute_result",
          "data": {
            "text/plain": [
              "step              0\n",
              "type              0\n",
              "amount            0\n",
              "oldbalanceOrg     0\n",
              "newbalanceOrig    0\n",
              "oldbalanceDest    0\n",
              "newbalanceDest    0\n",
              "isFraud           0\n",
              "isFlaggedFraud    0\n",
              "dtype: int64"
            ]
          },
          "metadata": {},
          "execution_count": 46
        }
      ],
      "source": [
        "# This function returns all the columns and the number of null values in the corrosponding column\n",
        "fraud_data.isnull().sum()"
      ]
    },
    {
      "cell_type": "markdown",
      "source": [
        "As we can see, there are no null values present in the database and hence there is no need of performing any operations for the same"
      ],
      "metadata": {
        "id": "kn1mCwWlNxSc"
      },
      "id": "kn1mCwWlNxSc"
    },
    {
      "cell_type": "markdown",
      "source": [
        "Before moving to the prediction part, we should check the datatypes all the columns are holding"
      ],
      "metadata": {
        "id": "TinI9ui0N-wQ"
      },
      "id": "TinI9ui0N-wQ"
    },
    {
      "cell_type": "code",
      "execution_count": 47,
      "id": "0e2b4f58",
      "metadata": {
        "id": "0e2b4f58",
        "colab": {
          "base_uri": "https://localhost:8080/"
        },
        "outputId": "12af406f-73ad-41d4-befa-5c839210632f"
      },
      "outputs": [
        {
          "output_type": "stream",
          "name": "stdout",
          "text": [
            "<class 'pandas.core.frame.DataFrame'>\n",
            "RangeIndex: 6362620 entries, 0 to 6362619\n",
            "Data columns (total 9 columns):\n",
            " #   Column          Dtype  \n",
            "---  ------          -----  \n",
            " 0   step            int64  \n",
            " 1   type            object \n",
            " 2   amount          float64\n",
            " 3   oldbalanceOrg   float64\n",
            " 4   newbalanceOrig  float64\n",
            " 5   oldbalanceDest  float64\n",
            " 6   newbalanceDest  float64\n",
            " 7   isFraud         int64  \n",
            " 8   isFlaggedFraud  int64  \n",
            "dtypes: float64(5), int64(3), object(1)\n",
            "memory usage: 436.9+ MB\n"
          ]
        }
      ],
      "source": [
        "# This function gives the basic information about all the cells in the database\n",
        "fraud_data.info()"
      ]
    },
    {
      "cell_type": "markdown",
      "source": [
        "Here, we can see that the 'type' column is an object. This means we have to work upon it and convert it into machine-understandable form ie, numbers. Hence, we perform the following operation on the column"
      ],
      "metadata": {
        "id": "vN_QvunoObDp"
      },
      "id": "vN_QvunoObDp"
    },
    {
      "cell_type": "code",
      "execution_count": 48,
      "id": "6be62583",
      "metadata": {
        "id": "6be62583",
        "colab": {
          "base_uri": "https://localhost:8080/"
        },
        "outputId": "6c7dae0b-0c43-41d2-dae8-79ac0499ac00"
      },
      "outputs": [
        {
          "output_type": "execute_result",
          "data": {
            "text/plain": [
              "array(['PAYMENT', 'TRANSFER', 'CASH_OUT', 'DEBIT', 'CASH_IN'],\n",
              "      dtype=object)"
            ]
          },
          "metadata": {},
          "execution_count": 48
        }
      ],
      "source": [
        "# Firstly, we check for all the unique values present in this column\n",
        "fraud_data['type'].unique()"
      ]
    },
    {
      "cell_type": "markdown",
      "source": [
        "We have 5 different entities present in the 'type' column. Hence, we can convert these 5 entities to numbers, labeled from 0 to 4. \n",
        "\n",
        "This process is called Label Encoding and this operation is performed in the cells below"
      ],
      "metadata": {
        "id": "qKCPtixIPM8e"
      },
      "id": "qKCPtixIPM8e"
    },
    {
      "cell_type": "code",
      "execution_count": 49,
      "id": "1b762574",
      "metadata": {
        "id": "1b762574"
      },
      "outputs": [],
      "source": [
        "from sklearn.preprocessing import LabelEncoder\n",
        "\n",
        "label_encoder = LabelEncoder()\n",
        "fraud_data['type'] = label_encoder.fit_transform(fraud_data['type'])"
      ]
    },
    {
      "cell_type": "markdown",
      "source": [
        "Now, since the encoding is done, let us check again for this column and find out the unique values present in this column"
      ],
      "metadata": {
        "id": "oFPyN6gdPkyK"
      },
      "id": "oFPyN6gdPkyK"
    },
    {
      "cell_type": "code",
      "execution_count": 50,
      "id": "eb7d4bde",
      "metadata": {
        "id": "eb7d4bde",
        "colab": {
          "base_uri": "https://localhost:8080/"
        },
        "outputId": "38ace3e2-3d90-4096-b0ef-1d9d57362dba"
      },
      "outputs": [
        {
          "output_type": "execute_result",
          "data": {
            "text/plain": [
              "array([3, 4, 1, 2, 0])"
            ]
          },
          "metadata": {},
          "execution_count": 50
        }
      ],
      "source": [
        "fraud_data['type'].unique()\n"
      ]
    },
    {
      "cell_type": "markdown",
      "source": [
        "# Heatmap and Correlations"
      ],
      "metadata": {
        "id": "aqynCO-oPz0S"
      },
      "id": "aqynCO-oPz0S"
    },
    {
      "cell_type": "markdown",
      "source": [
        "## A heat map is a data visualization technique that shows magnitude of a phenomenon as color in two dimensions. The variation in color may be by hue or intensity, giving obvious visual cues to the reader about how the phenomenon is clustered or varies over space."
      ],
      "metadata": {
        "id": "n4T4F8KTP3AM"
      },
      "id": "n4T4F8KTP3AM"
    },
    {
      "cell_type": "markdown",
      "source": [
        "We can create a heatmap for our database. This can be done using the Seaborn Library. This library is used to create graphs, histograms, heatmaps and various other plots"
      ],
      "metadata": {
        "id": "Wo0SmjELP8zm"
      },
      "id": "Wo0SmjELP8zm"
    },
    {
      "cell_type": "markdown",
      "source": [
        "Firstly, we develop a correlation matrix. \n",
        "\n",
        "A correlation matrix is simply a table which displays the correlation. It is best used in variables that demonstrate a linear relationship between each other."
      ],
      "metadata": {
        "id": "aFt-JWhuQgX8"
      },
      "id": "aFt-JWhuQgX8"
    },
    {
      "cell_type": "code",
      "execution_count": 51,
      "id": "bdd30ea4",
      "metadata": {
        "id": "bdd30ea4"
      },
      "outputs": [],
      "source": [
        "# This funcion returns the correlation matrix of the given dataset. We have stored this matrix in the variable called fraud_data_correlations\n",
        "fraud_data_correlations = fraud_data.corr()"
      ]
    },
    {
      "cell_type": "markdown",
      "source": [
        "Now that we have our correlation matrix, let us use this to draw the heatmap of the given dataset"
      ],
      "metadata": {
        "id": "h-2kV7PBVJo6"
      },
      "id": "h-2kV7PBVJo6"
    },
    {
      "cell_type": "code",
      "execution_count": 52,
      "id": "169fad0f",
      "metadata": {
        "id": "169fad0f",
        "colab": {
          "base_uri": "https://localhost:8080/",
          "height": 686
        },
        "outputId": "99b4e2a6-b9b2-4da4-dac2-6b90712a7184"
      },
      "outputs": [
        {
          "output_type": "execute_result",
          "data": {
            "text/plain": [
              "<matplotlib.axes._subplots.AxesSubplot at 0x7f41aa618e10>"
            ]
          },
          "metadata": {},
          "execution_count": 52
        },
        {
          "output_type": "display_data",
          "data": {
            "text/plain": [
              "<Figure size 720x720 with 2 Axes>"
            ],
            "image/png": "[encoded data removed]"
          },
          "metadata": {
            "needs_background": "light"
          }
        }
      ],
      "source": [
        "# Plt.figure creates a 10 x 10 space to draw the heatmap\n",
        "# Seaborn's heatmap() function takes the correlation matrix as a parameter along with some other parameters to develop the requeired heatmap\n",
        "\n",
        "plt.figure(figsize=(10,10))\n",
        "sns.heatmap(fraud_data_correlations , cmap=\"Greens\" , annot=True , fmt = '.2f')"
      ]
    },
    {
      "cell_type": "markdown",
      "source": [
        "## Some Other Plots"
      ],
      "metadata": {
        "id": "Lxnl2ONmWSOX"
      },
      "id": "Lxnl2ONmWSOX"
    },
    {
      "cell_type": "code",
      "execution_count": 53,
      "id": "b075fb6e",
      "metadata": {
        "id": "b075fb6e",
        "colab": {
          "base_uri": "https://localhost:8080/",
          "height": 795
        },
        "outputId": "fbee22eb-4a69-47dd-a1e5-fe42852b0d94"
      },
      "outputs": [
        {
          "output_type": "execute_result",
          "data": {
            "text/plain": [
              "array([[<matplotlib.axes._subplots.AxesSubplot object at 0x7f41d87ec150>,\n",
              "        <matplotlib.axes._subplots.AxesSubplot object at 0x7f41a7fc9f50>,\n",
              "        <matplotlib.axes._subplots.AxesSubplot object at 0x7f41a7f8c590>],\n",
              "       [<matplotlib.axes._subplots.AxesSubplot object at 0x7f41a7f42b90>,\n",
              "        <matplotlib.axes._subplots.AxesSubplot object at 0x7f41a7f061d0>,\n",
              "        <matplotlib.axes._subplots.AxesSubplot object at 0x7f41a7ebf7d0>],\n",
              "       [<matplotlib.axes._subplots.AxesSubplot object at 0x7f41a7e75e50>,\n",
              "        <matplotlib.axes._subplots.AxesSubplot object at 0x7f41a7e373d0>,\n",
              "        <matplotlib.axes._subplots.AxesSubplot object at 0x7f41a7e37410>]],\n",
              "      dtype=object)"
            ]
          },
          "metadata": {},
          "execution_count": 53
        },
        {
          "output_type": "display_data",
          "data": {
            "text/plain": [
              "<Figure size 720x720 with 9 Axes>"
            ],
            "image/png": "[encoded data removed]"
          },
          "metadata": {
            "needs_background": "light"
          }
        }
      ],
      "source": [
        "fraud_data.hist(figsize=(10,10) , align = 'mid')"
      ]
    },
    {
      "cell_type": "markdown",
      "source": [
        "We can also check the number of distinct values present in the isFraud column, which is our target variable."
      ],
      "metadata": {
        "id": "87xD8lB6WVk-"
      },
      "id": "87xD8lB6WVk-"
    },
    {
      "cell_type": "code",
      "execution_count": 54,
      "id": "65009427",
      "metadata": {
        "id": "65009427",
        "colab": {
          "base_uri": "https://localhost:8080/",
          "height": 386
        },
        "outputId": "007fa889-3f89-4ec7-b294-1f37f023c6eb"
      },
      "outputs": [
        {
          "output_type": "execute_result",
          "data": {
            "text/plain": [
              "<seaborn.axisgrid.FacetGrid at 0x7f41a7b34190>"
            ]
          },
          "metadata": {},
          "execution_count": 54
        },
        {
          "output_type": "display_data",
          "data": {
            "text/plain": [
              "<Figure size 360x360 with 1 Axes>"
            ],
            "image/png": "[encoded data removed]"
          },
          "metadata": {
            "needs_background": "light"
          }
        }
      ],
      "source": [
        "sns.catplot(x='isFraud', data = fraud_data, kind = 'count')\n",
        "# Only 2 values of isFraud|"
      ]
    },
    {
      "cell_type": "markdown",
      "source": [
        "As we can see, the target column has 2 unique values, which is 0 and 1. Also, we can see that the number of fraud entities are less than the number of non-fraud entities"
      ],
      "metadata": {
        "id": "1NlK5FAXWtX4"
      },
      "id": "1NlK5FAXWtX4"
    },
    {
      "cell_type": "markdown",
      "id": "756acba3",
      "metadata": {
        "id": "756acba3"
      },
      "source": [
        "# Model Division into X and y"
      ]
    },
    {
      "cell_type": "markdown",
      "source": [
        "Now that we have analysed, processed, and plotted the data, we now move on for predicting values using the given dataset.\n"
      ],
      "metadata": {
        "id": "6ECwTMGKW8X6"
      },
      "id": "6ECwTMGKW8X6"
    },
    {
      "cell_type": "markdown",
      "source": [
        "Firstly, we bifurcate the data into X (Set of all columns which are provided to the model for prediction) and y (Set of the column which acts as the output) "
      ],
      "metadata": {
        "id": "ERNiIOEuXJb8"
      },
      "id": "ERNiIOEuXJb8"
    },
    {
      "cell_type": "code",
      "execution_count": 55,
      "id": "f714a76b",
      "metadata": {
        "id": "f714a76b"
      },
      "outputs": [],
      "source": [
        "# Here, we distinguish the data as follows\n",
        "X = fraud_data.drop('isFraud' , axis=1).values\n",
        "y = fraud_data['isFraud'].values"
      ]
    },
    {
      "cell_type": "markdown",
      "source": [
        "Further, we split the data into Testing and Training Data.\n",
        "This helps us in developing a model which neither overfits not underfits"
      ],
      "metadata": {
        "id": "3gITozD4YFkE"
      },
      "id": "3gITozD4YFkE"
    },
    {
      "cell_type": "markdown",
      "source": [
        "We use the train_test_split() function in the Sklearn Library to perform this split the data.\n",
        "\n",
        "While the variables X_train and y_train are used to train the prediction model, the variables X_test and y_test are used to test the model"
      ],
      "metadata": {
        "id": "koerJDaLYOFg"
      },
      "id": "koerJDaLYOFg"
    },
    {
      "cell_type": "code",
      "execution_count": 56,
      "id": "a8e82816",
      "metadata": {
        "id": "a8e82816"
      },
      "outputs": [],
      "source": [
        "from sklearn.model_selection import train_test_split\n",
        "X_train, X_test, y_train, y_test = train_test_split(X, y, test_size=0.2)\n",
        "# Do the standard scaling as well"
      ]
    },
    {
      "cell_type": "markdown",
      "source": [
        "## Scaling the data"
      ],
      "metadata": {
        "id": "lguFQcIvYp74"
      },
      "id": "lguFQcIvYp74"
    },
    {
      "cell_type": "markdown",
      "source": [
        "Scaling the data is important, especially when you have a dataset has data which varies in numbers."
      ],
      "metadata": {
        "id": "wbYykGX6ZirC"
      },
      "id": "wbYykGX6ZirC"
    },
    {
      "cell_type": "markdown",
      "source": [
        "In our case, we can see the data has transaction details, which varies in 5-6 figures. At the same time, we also have data which varies in 0s and 1s. Hence, we can say that standardization of the data is very important in our case"
      ],
      "metadata": {
        "id": "NJdBwWBKZ6Rk"
      },
      "id": "NJdBwWBKZ6Rk"
    },
    {
      "cell_type": "markdown",
      "source": [
        "To perform the same, we use the StandardScaler function present in the Sklearn Library. The idea behind StandardScaler is that it will transform your data such that its distribution will have a mean value 0 and standard deviation of 1.\n"
      ],
      "metadata": {
        "id": "5UxqW8TYaQQg"
      },
      "id": "5UxqW8TYaQQg"
    },
    {
      "cell_type": "code",
      "execution_count": 57,
      "id": "acdd6945",
      "metadata": {
        "id": "acdd6945"
      },
      "outputs": [],
      "source": [
        "from sklearn.preprocessing import StandardScaler\n",
        "sc = StandardScaler()\n",
        "\n",
        "X_train = sc.fit_transform(X_train)\n",
        "X_test = sc.fit_transform(X_test)"
      ]
    },
    {
      "cell_type": "markdown",
      "source": [
        "## Model Testing"
      ],
      "metadata": {
        "id": "6E22iBcuacxd"
      },
      "id": "6E22iBcuacxd"
    },
    {
      "cell_type": "markdown",
      "source": [
        "Now comes the time to implement various models and test them. Based on the accuracy these models provide while testing on the data, we would in the end decide which of the tested machine learning models would be the best for the optimum Fraud detection"
      ],
      "metadata": {
        "id": "oQbfBGCValcg"
      },
      "id": "oQbfBGCValcg"
    },
    {
      "cell_type": "markdown",
      "source": [
        "In this case, we test our data on the given machine learning models:\n",
        "1. Random Forests\n",
        "2. Logistic Regression\n",
        "3. Naive Bayes"
      ],
      "metadata": {
        "id": "nZTzWOdgbGdt"
      },
      "id": "nZTzWOdgbGdt"
    },
    {
      "cell_type": "markdown",
      "source": [
        "The reason behind specificaly choosing these 3 models are that these machine learning models are famous in classification problems, fraud detection being one of them. \n",
        "\n",
        "(While there could have been other models in the list as well, we are sticking to these 3 models due to the hardware limitations as well as the large nature of the given dataset)"
      ],
      "metadata": {
        "id": "gqy4iTgSbYKv"
      },
      "id": "gqy4iTgSbYKv"
    },
    {
      "cell_type": "code",
      "source": [
        "# This is a dictionary which is made to compare the different machine learning models.\n",
        "# This dictionary has the following structure\n",
        "# ---- Key: The name of the machine learning model\n",
        "# ---- Value: The accuracy score of the same model \n",
        "\n",
        "model_accuracy = {}\n"
      ],
      "metadata": {
        "id": "12sX8P8LtE06"
      },
      "id": "12sX8P8LtE06",
      "execution_count": 58,
      "outputs": []
    },
    {
      "cell_type": "code",
      "source": [
        "# Importing some other libraries which might be helpful while implementing the machine learning models\n",
        "from sklearn.metrics import accuracy_score\n",
        "from sklearn.metrics import classification_report"
      ],
      "metadata": {
        "id": "3xZva9TAdtKd"
      },
      "id": "3xZva9TAdtKd",
      "execution_count": 59,
      "outputs": []
    },
    {
      "cell_type": "markdown",
      "id": "5b3080d5",
      "metadata": {
        "id": "5b3080d5"
      },
      "source": [
        "## 1.) Random Forest"
      ]
    },
    {
      "cell_type": "markdown",
      "source": [
        "Here we are using the RandomForestClassifier object present in the Scikitlearn library to implement the machine learning model about the fraud_data.\n",
        "\n",
        "Apart from this, we also use the Accuracy Score to finally find the accuracy of the model as well as Classification Report to draw other statistics about the model"
      ],
      "metadata": {
        "id": "JMDk1HWsc3eU"
      },
      "id": "JMDk1HWsc3eU"
    },
    {
      "cell_type": "code",
      "execution_count": 60,
      "id": "c22b508d",
      "metadata": {
        "id": "c22b508d"
      },
      "outputs": [],
      "source": [
        "from sklearn.ensemble import RandomForestClassifier\n",
        "\n",
        "rf = RandomForestClassifier(n_estimators=5 , random_state = 100).fit(X_train, y_train)\n",
        "y_predict = rf.predict(X_test)"
      ]
    },
    {
      "cell_type": "code",
      "execution_count": null,
      "id": "33aa2636",
      "metadata": {
        "id": "33aa2636"
      },
      "outputs": [],
      "source": [
        "score = rf.score(X_test, y_test)\n",
        "model_accuracy['Random Forest'] = score\n",
        "print(score)"
      ]
    },
    {
      "cell_type": "code",
      "source": [
        "classificationReport = classification_report(y_test, y_predict)\n",
        "print(classificationReport)"
      ],
      "metadata": {
        "id": "IdczIj3yrSwg",
        "colab": {
          "base_uri": "https://localhost:8080/"
        },
        "outputId": "0be8e9d0-85b3-497b-d38e-ce44f2e47484"
      },
      "id": "IdczIj3yrSwg",
      "execution_count": 61,
      "outputs": [
        {
          "output_type": "stream",
          "name": "stdout",
          "text": [
            "              precision    recall  f1-score   support\n",
            "\n",
            "           0       1.00      1.00      1.00   1270855\n",
            "           1       0.94      0.59      0.73      1669\n",
            "\n",
            "    accuracy                           1.00   1272524\n",
            "   macro avg       0.97      0.80      0.86   1272524\n",
            "weighted avg       1.00      1.00      1.00   1272524\n",
            "\n"
          ]
        }
      ]
    },
    {
      "cell_type": "markdown",
      "source": [
        "## 2.) Logistic Regression"
      ],
      "metadata": {
        "id": "aK61QjgHdfnm"
      },
      "id": "aK61QjgHdfnm"
    },
    {
      "cell_type": "markdown",
      "source": [
        "Here we are using the LogisticRegression object present in the Scikitlearn library to implement the machine learning model about the fraud_data.\n",
        "\n",
        "Apart from this, we also use the Accuracy Score to finally find the accuracy of the model as well as Classification Report to draw other statistics about the model"
      ],
      "metadata": {
        "id": "5Gc4iIAtdl1L"
      },
      "id": "5Gc4iIAtdl1L"
    },
    {
      "cell_type": "code",
      "execution_count": 28,
      "id": "7950529e",
      "metadata": {
        "id": "7950529e"
      },
      "outputs": [],
      "source": [
        "from sklearn.linear_model import LogisticRegression\n",
        "\n",
        "lr = LogisticRegression(random_state = 100).fit(X_train, y_train)\n",
        "y_predict = lr.predict(X_test)"
      ]
    },
    {
      "cell_type": "code",
      "source": [
        "score = lr.score(X_test, y_test)\n",
        "model_accuracy['Logistic Regression'] = score\n",
        "print(score)"
      ],
      "metadata": {
        "id": "DVYuE9ggafNe",
        "colab": {
          "base_uri": "https://localhost:8080/"
        },
        "outputId": "30e48f75-4dc2-4997-ded6-af1b72f0c674"
      },
      "id": "DVYuE9ggafNe",
      "execution_count": 29,
      "outputs": [
        {
          "output_type": "stream",
          "name": "stdout",
          "text": [
            "0.9992102310054664\n"
          ]
        }
      ]
    },
    {
      "cell_type": "code",
      "source": [
        "classificationReport = classification_report(y_test, y_predict)\n",
        "print(classificationReport)"
      ],
      "metadata": {
        "id": "cQjpXNl_sYRH",
        "colab": {
          "base_uri": "https://localhost:8080/"
        },
        "outputId": "a5862569-623e-42dd-e43f-c15ad7683fb1"
      },
      "id": "cQjpXNl_sYRH",
      "execution_count": 30,
      "outputs": [
        {
          "output_type": "stream",
          "name": "stdout",
          "text": [
            "              precision    recall  f1-score   support\n",
            "\n",
            "           0       1.00      1.00      1.00   1270880\n",
            "           1       0.91      0.43      0.59      1644\n",
            "\n",
            "    accuracy                           1.00   1272524\n",
            "   macro avg       0.95      0.72      0.79   1272524\n",
            "weighted avg       1.00      1.00      1.00   1272524\n",
            "\n"
          ]
        }
      ]
    },
    {
      "cell_type": "markdown",
      "source": [
        "## 3.) Naive Bayes"
      ],
      "metadata": {
        "id": "kxxqXXMseCTt"
      },
      "id": "kxxqXXMseCTt"
    },
    {
      "cell_type": "markdown",
      "source": [
        "Here we are using the GaussianNB object present in the Scikitlearn library to implement the machine learning model about the fraud_data.\n",
        "\n",
        "Apart from this, we also use the Accuracy Score to finally find the accuracy of the model as well as Classification Report to draw other statistics about the model"
      ],
      "metadata": {
        "id": "LKRrCuaweGHT"
      },
      "id": "LKRrCuaweGHT"
    },
    {
      "cell_type": "code",
      "execution_count": 31,
      "id": "369f4952",
      "metadata": {
        "id": "369f4952"
      },
      "outputs": [],
      "source": [
        "from sklearn.naive_bayes import GaussianNB\n",
        "\n",
        "gnb = GaussianNB()\n",
        "gnb.fit(X_train, y_train)\n",
        "y_pred = gnb.predict(X_test)"
      ]
    },
    {
      "cell_type": "code",
      "source": [
        "score = gnb.score(X_test , y_test)\n",
        "model_accuracy['Naive Bayes'] = score\n",
        "print(score)"
      ],
      "metadata": {
        "id": "ctenKf6ldeuc",
        "colab": {
          "base_uri": "https://localhost:8080/"
        },
        "outputId": "7c8f1c1b-f460-4407-8345-9ae80f3de582"
      },
      "id": "ctenKf6ldeuc",
      "execution_count": 32,
      "outputs": [
        {
          "output_type": "stream",
          "name": "stdout",
          "text": [
            "0.0028023047109524066\n"
          ]
        }
      ]
    },
    {
      "cell_type": "code",
      "source": [
        "classificationReport = classification_report(y_test, y_predict)\n",
        "print(classificationReport)"
      ],
      "metadata": {
        "id": "OMfmwF8FX_62",
        "colab": {
          "base_uri": "https://localhost:8080/"
        },
        "outputId": "f32ee175-28b4-475c-e278-7dcec32ea55a"
      },
      "id": "OMfmwF8FX_62",
      "execution_count": 33,
      "outputs": [
        {
          "output_type": "stream",
          "name": "stdout",
          "text": [
            "              precision    recall  f1-score   support\n",
            "\n",
            "           0       1.00      1.00      1.00   1270880\n",
            "           1       0.91      0.43      0.59      1644\n",
            "\n",
            "    accuracy                           1.00   1272524\n",
            "   macro avg       0.95      0.72      0.79   1272524\n",
            "weighted avg       1.00      1.00      1.00   1272524\n",
            "\n"
          ]
        }
      ]
    },
    {
      "cell_type": "markdown",
      "source": [
        "## Model Analysis\n",
        "Now that we have implemented all the machine learning models and drawn their scores, it is time to check which one of them would be the most suitable for fraud detection"
      ],
      "metadata": {
        "id": "adX_GkuhedoK"
      },
      "id": "adX_GkuhedoK"
    },
    {
      "cell_type": "markdown",
      "source": [
        "Let's recall all the models we implemented and their accuracy as well"
      ],
      "metadata": {
        "id": "PKHApMeLe6ZG"
      },
      "id": "PKHApMeLe6ZG"
    },
    {
      "cell_type": "code",
      "source": [
        "score = -1;\n",
        "model_name = None;\n",
        "for model , accuracy in model_accuracy.items():\n",
        "  print(str(model) + \" : \" + str(accuracy))\n",
        "  if(accuracy > score):\n",
        "    # print(model)\n",
        "    model_name = model;\n",
        "    score = accuracy"
      ],
      "metadata": {
        "id": "PPVftGTpsdHZ",
        "colab": {
          "base_uri": "https://localhost:8080/"
        },
        "outputId": "32fc6d12-a99f-45f7-db99-ee6a9bb2f9f7"
      },
      "id": "PPVftGTpsdHZ",
      "execution_count": 34,
      "outputs": [
        {
          "output_type": "stream",
          "name": "stdout",
          "text": [
            "Random Forest : 0.9991646522973241\n",
            "Logistic Regression : 0.9992102310054664\n",
            "Naive Bayes : 0.0028023047109524066\n"
          ]
        }
      ]
    },
    {
      "cell_type": "markdown",
      "source": [
        "And the model with the highest score is the one which we would choose for fraud detection"
      ],
      "metadata": {
        "id": "5ye0OkWqfBmB"
      },
      "id": "5ye0OkWqfBmB"
    },
    {
      "cell_type": "code",
      "source": [
        "print(\"The most accurate model for prediction is: \" + model_name)"
      ],
      "metadata": {
        "id": "CLtkGh3ouEcL",
        "colab": {
          "base_uri": "https://localhost:8080/"
        },
        "outputId": "726bf862-a202-48f9-8484-97f8acd2c62e"
      },
      "id": "CLtkGh3ouEcL",
      "execution_count": 35,
      "outputs": [
        {
          "output_type": "stream",
          "name": "stdout",
          "text": [
            "The most accurate model for prediction is: Logistic Regression\n"
          ]
        }
      ]
    },
    {
      "cell_type": "markdown",
      "source": [
        "Finally, we are using \n"
      ],
      "metadata": {
        "id": "fb2iukYTfJOb"
      },
      "id": "fb2iukYTfJOb"
    },
    {
      "cell_type": "markdown",
      "source": [
        "## Random Forest"
      ],
      "metadata": {
        "id": "FnIIEoPSfLnq"
      },
      "id": "FnIIEoPSfLnq"
    },
    {
      "cell_type": "markdown",
      "source": [
        "As our prediction model for the fraud detection dataset"
      ],
      "metadata": {
        "id": "B5xquOcRfOIm"
      },
      "id": "B5xquOcRfOIm"
    },
    {
      "cell_type": "markdown",
      "source": [
        "## User-based Predictive System "
      ],
      "metadata": {
        "id": "vJdi8LAMx_z0"
      },
      "id": "vJdi8LAMx_z0"
    },
    {
      "cell_type": "markdown",
      "source": [
        "This is the last part of this notebook. Here, the user can run the cells below by which he would be able to enter his/her inputs and thereafter obtain the output after the machine learning model (Random Forest in this case) predicts the same using the data provided by the user."
      ],
      "metadata": {
        "id": "JecNB0P8fblq"
      },
      "id": "JecNB0P8fblq"
    },
    {
      "cell_type": "code",
      "source": [
        "for cols in fraud_data.columns:\n",
        "  print(cols)"
      ],
      "metadata": {
        "id": "OApd8GsQyMHs",
        "colab": {
          "base_uri": "https://localhost:8080/"
        },
        "outputId": "78e52b6b-da48-4d81-e1e8-731a0129f844"
      },
      "id": "OApd8GsQyMHs",
      "execution_count": 36,
      "outputs": [
        {
          "output_type": "stream",
          "name": "stdout",
          "text": [
            "step\n",
            "type\n",
            "amount\n",
            "oldbalanceOrg\n",
            "newbalanceOrig\n",
            "oldbalanceDest\n",
            "newbalanceDest\n",
            "isFraud\n",
            "isFlaggedFraud\n"
          ]
        }
      ]
    },
    {
      "cell_type": "markdown",
      "source": [
        "Run the cell below and thereafter enter the entities to generate the output.\n",
        "Developers: You can comment the input() lines and un-comment the commented lines for ease of handling"
      ],
      "metadata": {
        "id": "ecwWqpUPhOZ7"
      },
      "id": "ecwWqpUPhOZ7"
    },
    {
      "cell_type": "code",
      "source": [
        "step = input(\"Enter the hour at which the fraud happened.\\n(For more information, refer to the docs mentioned above): \\n\")\n",
        "type = input(\"\\nEnter the type of fraud that happened.\\n(Choose between 0 - CASH_IN, 1 - CASH_OUT, 2 - DEBIT, 3 - PAYMENT, 4 - TRANSFER): \\n\")\n",
        "amount = input(\"\\nEnter the amount associated with the fraud: \\n\")\n",
        "oldbalanceOrg = input(\"\\nEnter the initial amount before the transaction: \\n\")\n",
        "newbalanceOrig = input(\"\\nEnter the new amount before the transaction: \\n\")\n",
        "oldbalanceDest = input(\"\\nEnter the initial balance recipient before the transaction.\\n(Note that there is not information for customers that start with M (Merchants)): \\n\")\n",
        "newbalanceDest = input(\"\\nEnter the new balance recipient after the transaction.\\n(Note that there is not information for customers that start with M (Merchants)): \\n\")\n",
        "isFlaggedFraud = input(\"\\nEnter whether the given transaction was flagged as fraud or not.\\n(Enter 1 for Marked as Fraud and 0 as Marked as Non-Fraud): \\n\")\n",
        "\n",
        "# # step = 1 \n",
        "# # type = 3\n",
        "# # amount = 9839.64\n",
        "# # oldbalanceOrg = 170136.00\n",
        "# # newbalanceOrig = 160296.36\n",
        "# # oldbalanceDest = 0.00 \n",
        "# # newbalanceDest = 0.00\n",
        "# # isFraud = 0\n",
        "# # isFlaggedFraud = 0"
      ],
      "metadata": {
        "id": "ycfYKwnZybYY",
        "colab": {
          "base_uri": "https://localhost:8080/"
        },
        "outputId": "5ab7b117-27ff-45ad-fdf5-7ecb3a7c022f"
      },
      "id": "ycfYKwnZybYY",
      "execution_count": 62,
      "outputs": [
        {
          "name": "stdout",
          "output_type": "stream",
          "text": [
            "Enter the hour at which the fraud happened.\n",
            "(For more information, refer to the docs mentioned above): \n",
            "1\n",
            "\n",
            "Enter the type of fraud that happened.\n",
            "(Choose between 0 - CASH_IN, 1 - CASH_OUT, 2 - DEBIT, 3 - PAYMENT, 4 - TRANSFER): \n",
            "3\n",
            "\n",
            "Enter the amount associated with the fraud: \n",
            "9839.64\n",
            "\n",
            "Enter the initial amount before the transaction: \n",
            "170136.00\n",
            "\n",
            "Enter the new amount before the transaction: \n",
            "160296.36\n",
            "\n",
            "Enter the initial balance recipient before the transaction.\n",
            "(Note that there is not information for customers that start with M (Merchants)): \n",
            "0.00\n",
            "\n",
            "Enter the new balance recipient after the transaction.\n",
            "(Note that there is not information for customers that start with M (Merchants)): \n",
            "0.00\n",
            "\n",
            "Enter whether the given transaction was flagged as fraud or not.\n",
            "(Enter 1 for Marked as Fraud and 0 as Marked as Non-Fraud): \n",
            "0\n"
          ]
        }
      ]
    },
    {
      "cell_type": "markdown",
      "source": [
        "Now that we have the data from the users, we have to convert it into the form which our model can understand. This is why we add these entities in a tuple, generate an array from this tuple and thereafter reshape this array from horizontal to vertical orientation. "
      ],
      "metadata": {
        "id": "cjiSph6mhmOk"
      },
      "id": "cjiSph6mhmOk"
    },
    {
      "cell_type": "code",
      "source": [
        "user_input = (step , type , amount , oldbalanceOrg , newbalanceOrig , oldbalanceDest , newbalanceDest , isFlaggedFraud)\n",
        "user_input_array = np.asarray(user_input)\n",
        "user_input_array_reshape = user_input_array.reshape(1,-1)"
      ],
      "metadata": {
        "id": "2KkXsDr10Rge"
      },
      "id": "2KkXsDr10Rge",
      "execution_count": 63,
      "outputs": []
    },
    {
      "cell_type": "markdown",
      "source": [
        "Now that we have the information processed, we can conclude predictions by sending this data to the machine learning model. The below cell performs this operation and thereafter the result is compared using an if-else statement to conclude whether the transaction was fraud or not a fraud"
      ],
      "metadata": {
        "id": "dCjYKkLXiKAc"
      },
      "id": "dCjYKkLXiKAc"
    },
    {
      "cell_type": "code",
      "source": [
        "prediction = rf.predict(user_input_array_reshape)\n",
        "# print(prediction)\n",
        "\n",
        "if(prediction == 1):\n",
        "    print(\"Fraud is probable\")\n",
        "else:\n",
        "    print(\"Fraud is not probable\")"
      ],
      "metadata": {
        "id": "Px_-7B5H5lSW",
        "colab": {
          "base_uri": "https://localhost:8080/"
        },
        "outputId": "25d55590-12c2-44c6-a1ab-eeb4b6ea5579"
      },
      "id": "Px_-7B5H5lSW",
      "execution_count": 64,
      "outputs": [
        {
          "output_type": "stream",
          "name": "stdout",
          "text": [
            "Fraud is probable\n"
          ]
        }
      ]
    },
    {
      "cell_type": "markdown",
      "source": [
        "## Summary"
      ],
      "metadata": {
        "id": "yXGQPB22igme"
      },
      "id": "yXGQPB22igme"
    },
    {
      "cell_type": "markdown",
      "source": [
        "- We were given the 'Fraud.csv' data. Our task was to handle the data and come up with a prediction whether any given transaction is Fraud or not Fraud"
      ],
      "metadata": {
        "id": "TifpDPt4ilnO"
      },
      "id": "TifpDPt4ilnO"
    },
    {
      "cell_type": "markdown",
      "source": [
        "- Firstly, we analysed the data and removed the cells which were unnessesary to pass to the machine learning model. Thereafter the data was checked for null values, which were not present. Finally, categorical changes were done for the colums which had classified values \n"
      ],
      "metadata": {
        "id": "iwb8K5DTi04x"
      },
      "id": "iwb8K5DTi04x"
    },
    {
      "cell_type": "markdown",
      "source": [
        "- Heatmap of the given dataset was generated using the correlation matrix. This heatmap helped us analyse the various columns in the dataset and the effect of the entities on one another. Other plots were also drawn which gave more insight about the dataset"
      ],
      "metadata": {
        "id": "-7fy89yukEjN"
      },
      "id": "-7fy89yukEjN"
    },
    {
      "cell_type": "markdown",
      "source": [
        "- Before moving to the predictions using machine learning models, we created variables of the target column as well as the labels. Thereafter, we split these variables to create 2 segments of data, one meant for training the model and the other one meant for testing the model trained on the training data. Scaling of the data was also done keeping in mind the diversity of values present in the columns"
      ],
      "metadata": {
        "id": "iHhZNRlKkEYc"
      },
      "id": "iHhZNRlKkEYc"
    },
    {
      "cell_type": "markdown",
      "source": [
        "- For selecting the best model for fraud detection, we implement the following machine learning models on the given fraud data:\n",
        "  \n",
        "  -- Random Forest\n",
        "  -- Logistic Regression\n",
        "  -- Naive Bayes"
      ],
      "metadata": {
        "id": "XDEVk61MlUqO"
      },
      "id": "XDEVk61MlUqO"
    },
    {
      "cell_type": "markdown",
      "source": [
        "- These models were implemented and the scores of these models were stored in a dictionary alond with the name of the model. Also, additional statistics about the models were also drawn."
      ],
      "metadata": {
        "id": "qCmVaq96lt9x"
      },
      "id": "qCmVaq96lt9x"
    },
    {
      "cell_type": "markdown",
      "source": [
        "- Finally, we compare the scores of all the models by using the dictionary created and hence concluded that RandomForestClassifier comes out to be the best model for fraud detection."
      ],
      "metadata": {
        "id": "3QWYQsV9mpUz"
      },
      "id": "3QWYQsV9mpUz"
    },
    {
      "cell_type": "markdown",
      "source": [
        "- We concluded the prediction by implenting a User-based Predictive System, where the user is free to enter his information and predict fraud detection. This is done by first taking all the information from the user, converting it into model-understandable form, predicting the outcomes and thereafter drawing the conclusion whether the transaction was actually fraud or not."
      ],
      "metadata": {
        "id": "8JOgSuAFnC_d"
      },
      "id": "8JOgSuAFnC_d"
    },
    {
      "cell_type": "markdown",
      "source": [
        "# Thank You"
      ],
      "metadata": {
        "id": "Et5jufjHn0gu"
      },
      "id": "Et5jufjHn0gu"
    },
    {
      "cell_type": "code",
      "source": [
        "# A notebook by:"
      ],
      "metadata": {
        "id": "OarEQ7OBn1sR"
      },
      "id": "OarEQ7OBn1sR",
      "execution_count": 65,
      "outputs": []
    },
    {
      "cell_type": "markdown",
      "source": [
        "## Ishaan Joshi\n",
        "### LinkedIn: https://www.linkedin.com/in/joshiishaan/\n",
        "### Github: https://github.com/hiferli"
      ],
      "metadata": {
        "id": "5a5nsZSkn297"
      },
      "id": "5a5nsZSkn297"
    }
  ],
  "metadata": {
    "kernelspec": {
      "display_name": "Python 3 (ipykernel)",
      "language": "python",
      "name": "python3"
    },
    "language_info": {
      "codemirror_mode": {
        "name": "ipython",
        "version": 3
      },
      "file_extension": ".py",
      "mimetype": "text/x-python",
      "name": "python",
      "nbconvert_exporter": "python",
      "pygments_lexer": "ipython3",
      "version": "3.10.2"
    },
    "colab": {
      "name": "Fraud Detection.ipynb",
      "provenance": [],
      "collapsed_sections": []
    },
    "accelerator": "GPU"
  },
  "nbformat": 4,
  "nbformat_minor": 5
}